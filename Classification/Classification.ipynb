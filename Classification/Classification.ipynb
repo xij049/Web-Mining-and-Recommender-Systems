{
 "cells": [
  {
   "cell_type": "code",
   "execution_count": 1,
   "metadata": {
    "collapsed": true
   },
   "outputs": [],
   "source": [
    "import numpy\n",
    "import urllib\n",
    "import scipy.optimize\n",
    "import random\n",
    "from math import exp\n",
    "from math import log"
   ]
  },
  {
   "cell_type": "code",
   "execution_count": 2,
   "metadata": {
    "collapsed": true
   },
   "outputs": [],
   "source": [
    "random.seed(0)"
   ]
  },
  {
   "cell_type": "code",
   "execution_count": 3,
   "metadata": {
    "collapsed": true
   },
   "outputs": [],
   "source": [
    "def parseData(fname):\n",
    "    for l in urllib.urlopen(fname):\n",
    "        yield eval(l)"
   ]
  },
  {
   "cell_type": "code",
   "execution_count": 4,
   "metadata": {
    "collapsed": false
   },
   "outputs": [
    {
     "name": "stdout",
     "output_type": "stream",
     "text": [
      "Reading data...\n",
      "done\n"
     ]
    }
   ],
   "source": [
    "print \"Reading data...\"\n",
    "dataFile = open(\"winequality-white.csv\")\n",
    "header = dataFile.readline()\n",
    "fields = [\"constant\"] + header.strip().replace('\"','').split(';')\n",
    "featureNames = fields[:-1]\n",
    "labelName = fields[-1]\n",
    "lines = [[1.0] + [float(x) for x in l.split(';')] for l in dataFile]\n",
    "# random.shuffle(lines)\n",
    "X = [l[:-1] for l in lines]\n",
    "y = [l[-1] > 5 for l in lines]\n",
    "print \"done\""
   ]
  },
  {
   "cell_type": "code",
   "execution_count": 5,
   "metadata": {
    "collapsed": true
   },
   "outputs": [],
   "source": [
    "def inner(x,y):\n",
    "    return sum([x[i]*y[i] for i in range(len(x))])"
   ]
  },
  {
   "cell_type": "code",
   "execution_count": 6,
   "metadata": {
    "collapsed": true
   },
   "outputs": [],
   "source": [
    "def sigmoid(x):\n",
    "    return 1.0 / (1 + exp(-x))"
   ]
  },
  {
   "cell_type": "markdown",
   "metadata": {},
   "source": [
    "### Logistic regression by gradient ascent"
   ]
  },
  {
   "cell_type": "code",
   "execution_count": 49,
   "metadata": {
    "collapsed": true
   },
   "outputs": [],
   "source": [
    "# NEGATIVE Log-likelihood\n",
    "def f(theta, X, y, lam):\n",
    "    loglikelihood = 0.\n",
    "    for i in range(len(X)):\n",
    "        logit = inner(X[i], theta)\n",
    "        loglikelihood -= log(1 + exp(-logit))\n",
    "        if not y[i]:\n",
    "            loglikelihood -= logit\n",
    "    for k in range(len(theta)):\n",
    "        loglikelihood -= lam * theta[k]*theta[k]\n",
    "    # for debugging\n",
    "    # print \"ll =\", loglikelihood\n",
    "    return -loglikelihood"
   ]
  },
  {
   "cell_type": "code",
   "execution_count": 21,
   "metadata": {
    "collapsed": false
   },
   "outputs": [],
   "source": [
    "# NEGATIVE Derivative of log-likelihood\n",
    "def fprime(theta, X, y, lam):\n",
    "    dl = [0]*len(theta)\n",
    "    for i in range(len(X)):\n",
    "        logit = inner(X[i], theta)\n",
    "        for k in range(len(theta)):\n",
    "            dl[k] += X[i][k] * (1 - sigmoid(logit))\n",
    "            if not y[i]:\n",
    "                dl[k] -= X[i][k]\n",
    "    for k in range(len(theta)):\n",
    "        dl[k] -= lam*2*theta[k]\n",
    "    return numpy.array([-x for x in dl])"
   ]
  },
  {
   "cell_type": "code",
   "execution_count": 7,
   "metadata": {
    "collapsed": true
   },
   "outputs": [],
   "source": [
    "X_train = X[:int(len(X)/3)]\n",
    "y_train = y[:int(len(y)/3)]\n",
    "X_validate = X[int(len(X)/3):int(2*len(X)/3)]\n",
    "y_validate = y[int(len(y)/3):int(2*len(y)/3)]\n",
    "X_test = X[int(2*len(X)/3):]\n",
    "y_test = y[int(2*len(X)/3):]"
   ]
  },
  {
   "cell_type": "markdown",
   "metadata": {},
   "source": [
    "### Train"
   ]
  },
  {
   "cell_type": "code",
   "execution_count": 23,
   "metadata": {
    "collapsed": true
   },
   "outputs": [],
   "source": [
    "def train(lam):\n",
    "    theta,_,_ = scipy.optimize.fmin_l_bfgs_b(f, [0]*len(X[0]), fprime, pgtol = 10, args = (X_train, y_train, lam))\n",
    "    return theta"
   ]
  },
  {
   "cell_type": "markdown",
   "metadata": {},
   "source": [
    "### Predict"
   ]
  },
  {
   "cell_type": "code",
   "execution_count": 24,
   "metadata": {
    "collapsed": true
   },
   "outputs": [],
   "source": [
    "def performance(theta):\n",
    "    scores_train = [inner(theta,x) for x in X_train]\n",
    "    scores_validate = [inner(theta,x) for x in X_validate]\n",
    "    scores_test = [inner(theta,x) for x in X_test]\n",
    "\n",
    "    predictions_train = [s > 0 for s in scores_train]\n",
    "    predictions_validate = [s > 0 for s in scores_validate]\n",
    "    predictions_test = [s > 0 for s in scores_test]\n",
    "\n",
    "    correct_train = [(a==b) for (a,b) in zip(predictions_train,y_train)]\n",
    "    correct_validate = [(a==b) for (a,b) in zip(predictions_validate,y_validate)]\n",
    "    correct_test = [(a==b) for (a,b) in zip(predictions_test,y_test)]\n",
    "\n",
    "    acc_train = sum(correct_train) * 1.0 / len(correct_train)\n",
    "    acc_validate = sum(correct_validate) * 1.0 / len(correct_validate)\n",
    "    acc_test = sum(correct_test) * 1.0 / len(correct_test)\n",
    "    return acc_train, acc_validate, acc_test\n"
   ]
  },
  {
   "cell_type": "markdown",
   "metadata": {},
   "source": [
    "### 1. Validation pipeline\n",
    "Randomly re-shuffle the data. random.shuffle(lines)"
   ]
  },
  {
   "cell_type": "code",
   "execution_count": 16,
   "metadata": {
    "collapsed": false
   },
   "outputs": [
    {
     "name": "stdout",
     "output_type": "stream",
     "text": [
      "lambda = 0;\ttrain=0.748774509804; validate=0.757501530925; test=0.738518064911\n",
      "lambda = 0.01;\ttrain=0.748774509804; validate=0.756889161053; test=0.738518064911\n",
      "lambda = 1.0;\ttrain=0.729166666667; validate=0.753827311696; test=0.72933251684\n",
      "lambda = 100.0;\ttrain=0.66237745098; validate=0.681567666871; test=0.680342927128\n"
     ]
    }
   ],
   "source": [
    "for lam in [0, 0.01, 1.0, 100.0]:\n",
    "    theta = train(lam)\n",
    "    acc_train, acc_validate, acc_test = performance(theta)\n",
    "    print(\"lambda = \" + str(lam) + \";\\ttrain=\" + str(acc_train) + \"; validate=\" + str(acc_validate) + \"; test=\" + str(acc_test))"
   ]
  },
  {
   "cell_type": "markdown",
   "metadata": {},
   "source": [
    "### 2. Evaluate classifier\n",
    "$\\lambda = 0.01$. Use only the test set from the original 1/3,1/3,1/3 split for this question"
   ]
  },
  {
   "cell_type": "code",
   "execution_count": 57,
   "metadata": {
    "collapsed": false
   },
   "outputs": [],
   "source": [
    "def test_performance(lam):\n",
    "    theta,_,_ = scipy.optimize.fmin_l_bfgs_b(f, [0]*len(X[0]), fprime, pgtol = 10, args = (X_test, y_test, lam))\n",
    "    scores_test = [inner(theta,x) for x in X_test]\n",
    "    predictions_test = [s > 0 for s in scores_test]\n",
    "    TP,TN,FP,FN = [0 for j in range(4)]\n",
    "    for i in range(len(y_test)):\n",
    "        label = y_test[i]\n",
    "        pred = predictions_test[i]\n",
    "        if ((label == 1) and (pred == 1)):\n",
    "            TP += 1\n",
    "        if ((label == 0) and (pred == 0)):\n",
    "            TN += 1\n",
    "        if ((label == 0) and (pred == 1)):\n",
    "            FP += 1\n",
    "        if ((label == 1) and (pred == 0)):\n",
    "            FN += 1\n",
    "    return TP, TN, FP, FN, scores_test"
   ]
  },
  {
   "cell_type": "code",
   "execution_count": 58,
   "metadata": {
    "collapsed": false
   },
   "outputs": [
    {
     "name": "stdout",
     "output_type": "stream",
     "text": [
      "#True Positive = 1075;#True Negative = 258; #False Positive = 208; #False Negative = 92\n",
      "Balanced Error Rate of the classifier = 0.262593275005\n"
     ]
    }
   ],
   "source": [
    "tp, tn, fp, fn, scores_test = test_performance(0.01)\n",
    "TPR = 1.0 * tp / (tp + fn) # True positive rate\n",
    "TNR = 1.0 * tn / (tn + fp) # True negative rate\n",
    "BER = 1.0 - 0.5 * (TPR + TNR)\n",
    "print (\"#True Positive = \" + str(tp) + \";#True Negative = \" + str(tn) + \"; #False Positive = \" + str(fp) + \"; #False Negative = \" + str(fn))\n",
    "print (\"Balanced Error Rate of the classifier = \" + str(BER))"
   ]
  },
  {
   "cell_type": "markdown",
   "metadata": {},
   "source": [
    "### 3. Rank prediction\n",
    "By sorting the predictions by con\f",
    "dence, compute the\n",
    "precision and the recall when returning the top 10, 500, and 1000 predictions"
   ]
  },
  {
   "cell_type": "code",
   "execution_count": 59,
   "metadata": {
    "collapsed": true
   },
   "outputs": [],
   "source": [
    "confidence_test =  [(s, y) for (s,y) in zip(scores_test,y_test)]\n",
    "sorted_y = [y for (s,y) in sorted(confidence_test,reverse=True)]\n",
    "relevant = [y > 0 for y in sorted_y]\n",
    "\n",
    "def calc_precision(num):\n",
    "    retreived = [y > 0 for y in sorted_y[:num]]\n",
    "    retreived = [y > 0 for y in sorted_y[:num]]\n",
    "    precision = 1.0 * sum(retreived) / num\n",
    "    return precision\n",
    "\n",
    "def calc_recall(num):\n",
    "    retreived = [y > 0 for y in sorted_y[:num]]\n",
    "    retreived = [y > 0 for y in sorted_y[:num]]\n",
    "    recall = 1.0 * sum(retreived)  / len(relevant)\n",
    "    return recall"
   ]
  },
  {
   "cell_type": "code",
   "execution_count": 60,
   "metadata": {
    "collapsed": false
   },
   "outputs": [
    {
     "name": "stdout",
     "output_type": "stream",
     "text": [
      "precision_10 = 0.9;  recall_10 = 0.00551132884262\n",
      "precision_500 = 0.946;  recall_500 = 0.289650949173\n",
      "precision_1000 = 0.898;  recall_1000 = 0.549908144519\n"
     ]
    }
   ],
   "source": [
    "for i in [10,500,1000]:\n",
    "    precision = calc_precision(i)\n",
    "    recall = calc_recall(i)\n",
    "    print (\"precision_\" + str(i) +\" = \" +str(precision)+\"; \"),\n",
    "    print (\"recall_\" + str(i) +\" = \" +str(recall))"
   ]
  },
  {
   "cell_type": "markdown",
   "metadata": {},
   "source": [
    "### 4. Plot precision versus recall"
   ]
  },
  {
   "cell_type": "code",
   "execution_count": 19,
   "metadata": {
    "collapsed": true
   },
   "outputs": [],
   "source": [
    "%matplotlib inline \n",
    "import matplotlib.pyplot as plt"
   ]
  },
  {
   "cell_type": "code",
   "execution_count": 30,
   "metadata": {
    "collapsed": false
   },
   "outputs": [
    {
     "data": {
      "text/plain": [
       "<matplotlib.text.Text at 0x87aa080>"
      ]
     },
     "execution_count": 30,
     "metadata": {},
     "output_type": "execute_result"
    },
    {
     "data": {
      "image/png": "[encoded data removed]",
      "text/plain": [
       "<matplotlib.figure.Figure at 0x85bdc88>"
      ]
     },
     "metadata": {},
     "output_type": "display_data"
    }
   ],
   "source": [
    "p = [calc_precision(i) for i in range(1,len(y_test))]\n",
    "r = [calc_recall(i) for i in range(1,len(y_test))]\n",
    "plt.plot(r, p)\n",
    "plt.ylabel('precision')\n",
    "plt.xlabel('recall')\n",
    "plt.title('Plot of precision versus recall')"
   ]
  },
  {
   "cell_type": "markdown",
   "metadata": {},
   "source": [
    "## Dimensionality reduction\n",
    "### 5. reconstruction error"
   ]
  },
  {
   "cell_type": "code",
   "execution_count": 8,
   "metadata": {
    "collapsed": false
   },
   "outputs": [
    {
     "name": "stdout",
     "output_type": "stream",
     "text": [
      "reconstruction error = 3675818.61688\n"
     ]
    }
   ],
   "source": [
    "X_train = [x[1:] for x in X[:int(len(X)/3)]]\n",
    "X_mean = numpy.mean(X_train, axis=0)\n",
    "re = 0. # reconstruction error\n",
    "for i in range(len(X_train)):\n",
    "    re += sum(numpy.square(numpy.subtract(X_train[i], X_mean)))\n",
    "print \"reconstruction error =\", re"
   ]
  },
  {
   "cell_type": "markdown",
   "metadata": {},
   "source": [
    "### 6. Find the PCA components"
   ]
  },
  {
   "cell_type": "code",
   "execution_count": 16,
   "metadata": {
    "collapsed": true
   },
   "outputs": [],
   "source": [
    "import urllib\n",
    "import scipy.optimize\n",
    "from sklearn.decomposition import PCA\n",
    "from collections import defaultdict"
   ]
  },
  {
   "cell_type": "code",
   "execution_count": 10,
   "metadata": {
    "collapsed": false
   },
   "outputs": [
    {
     "name": "stdout",
     "output_type": "stream",
     "text": [
      "[[ -3.23636346e-04   1.42201752e-04   3.17030713e-04   5.36390435e-02\n",
      "    9.30284526e-05   2.54030965e-01   9.65655009e-01   3.19990241e-05\n",
      "   -2.95831396e-04   3.84043646e-04  -1.00526693e-02]\n",
      " [ -7.57985623e-03  -1.66366340e-03   1.04742899e-03   5.21677266e-02\n",
      "    4.49425600e-05   9.65020304e-01  -2.56793964e-01   7.90089050e-06\n",
      "    5.24900596e-04  -1.09699394e-03  -2.89827657e-03]\n",
      " [  1.82124420e-02   2.54680710e-03   3.31838657e-03   9.93221259e-01\n",
      "   -1.51888372e-04  -6.42297821e-02  -3.91682592e-02   4.30929482e-04\n",
      "   -6.93199060e-03  -2.85216045e-03  -8.62920933e-02]\n",
      " [  1.56811999e-01   3.28220652e-03   1.66866136e-02   8.28549640e-02\n",
      "   -6.91822288e-03   1.13029682e-03   5.39110108e-03  -9.49080503e-04\n",
      "    2.68027305e-03   1.30498102e-03   9.83955205e-01]\n",
      " [  9.81360642e-01  -1.45890108e-02   5.92643662e-02  -3.17546064e-02\n",
      "    5.07483182e-04   8.43759364e-03  -1.77578042e-03   6.03725221e-04\n",
      "   -9.05011239e-02  -9.35630845e-03  -1.54417839e-01]\n",
      " [  7.76578401e-02  -2.37665885e-01   2.23406619e-02   5.04113878e-03\n",
      "   -1.43564098e-02  -2.14210997e-04  -2.22913844e-04   3.36617054e-03\n",
      "    8.77254205e-01   4.08570175e-01  -1.54145486e-02]\n",
      " [ -7.36289612e-02  -2.61563804e-01   9.43067566e-01  -2.14514264e-03\n",
      "    1.19104298e-02  -1.68808905e-03   1.42294158e-04  -1.17203197e-04\n",
      "   -1.45895558e-01   1.23868963e-01  -2.88797236e-03]\n",
      " [ -1.37617196e-02   2.11129619e-01  -1.16514121e-01   5.30670319e-04\n",
      "    1.05181628e-02   1.36446528e-03  -8.21179429e-04   3.09221855e-04\n",
      "   -3.58358431e-01   9.01728510e-01   3.27758247e-03]\n",
      " [  1.74575775e-02   9.10890084e-01   3.04081497e-01  -2.89763923e-03\n",
      "    2.34615054e-02   1.17406025e-03  -3.85957239e-04   1.23176271e-03\n",
      "    2.68927937e-01  -6.70756658e-02  -1.12101920e-02]\n",
      " [  2.31513441e-03  -2.38717789e-02  -1.67445603e-02   8.92206499e-04\n",
      "    9.99462734e-01  -9.81109101e-05  -3.32812875e-05   4.14235255e-03\n",
      "    1.18483756e-02  -3.51543098e-03   6.92344110e-03]\n",
      " [  7.48312160e-04   3.08204153e-04   2.55232500e-04   3.49846801e-04\n",
      "    4.12943179e-03  -6.96565372e-06   4.16951216e-06  -9.99984215e-01\n",
      "    3.17948604e-03   1.53436134e-03  -1.10029138e-03]]\n"
     ]
    }
   ],
   "source": [
    "### PCA on beer reviews ###\n",
    "pca = PCA(n_components=11)\n",
    "pca.fit(X_train)\n",
    "pca_error = pca.explained_variance_\n",
    "print pca.components_"
   ]
  },
  {
   "cell_type": "markdown",
   "metadata": {},
   "source": [
    "### 7. compress the data using just four PCA dimensions."
   ]
  },
  {
   "cell_type": "code",
   "execution_count": 11,
   "metadata": {
    "collapsed": false
   },
   "outputs": [
    {
     "name": "stdout",
     "output_type": "stream",
     "text": [
      "reconstruction error = 1345.4755741\n"
     ]
    }
   ],
   "source": [
    "pca = PCA(n_components=4)\n",
    "pca.fit(X_train)\n",
    "X_transform = pca.transform(X_train)\n",
    "X_reconstruction = pca.inverse_transform(X_transform)\n",
    "re = 0. # reconstruction error\n",
    "for i in range(len(X_train)):\n",
    "    re += sum(numpy.square(numpy.subtract(X_train[i], X_reconstruction[i])))\n",
    "print \"reconstruction error =\", re"
   ]
  },
  {
   "cell_type": "markdown",
   "metadata": {},
   "source": [
    "### 8. predict the quality score, using increasingly many PCA dimensions"
   ]
  },
  {
   "cell_type": "code",
   "execution_count": 12,
   "metadata": {
    "collapsed": true
   },
   "outputs": [],
   "source": [
    "def compute_MSE(a,X,y):\n",
    "    error = 0.\n",
    "    length = len(y)\n",
    "    for i in range(length):\n",
    "        error += (y[i] - numpy.dot(a,X[i])) ** 2\n",
    "    return error / length"
   ]
  },
  {
   "cell_type": "code",
   "execution_count": 13,
   "metadata": {
    "collapsed": false
   },
   "outputs": [],
   "source": [
    "MSE_train = []\n",
    "MSE_test = []\n",
    "for d in range(1,12):\n",
    "    pca = PCA(n_components=d)\n",
    "    pca.fit(X_train)\n",
    "    X_reconstruction = pca.transform(X_train)\n",
    "    X_regression = [[1.0] + x for x in X_reconstruction]\n",
    "    theta,residuals,rank,s = numpy.linalg.lstsq(X_regression, y_train)\n",
    "    MSE_train.append(compute_MSE(theta,X_regression,y_train))\n",
    "    \n",
    "for d in range(1,12):\n",
    "    pca = PCA(n_components=d)\n",
    "    pca.fit(X_test)\n",
    "    X_reconstruction = pca.transform(X_test)\n",
    "    X_regression = [[1.0,] + x for x in X_reconstruction]\n",
    "    theta,residuals,rank,s = numpy.linalg.lstsq(X_regression, y_test)\n",
    "    MSE_test.append(compute_MSE(theta,X_regression,y_test))"
   ]
  },
  {
   "cell_type": "code",
   "execution_count": 14,
   "metadata": {
    "collapsed": false
   },
   "outputs": [
    {
     "name": "stdout",
     "output_type": "stream",
     "text": [
      "[0.65581949875389367, 0.64676394620000566, 0.64031648680891573, 0.32579235577701915, 0.28996472114725952, 0.18893841380392501, 0.18867195247498933, 0.18756587969688093, 0.18132780683413804, 0.17961957974079035, 0.17906571809404909]\n",
      "[0.7066354371722573, 0.68940993018977337, 0.66318555134306889, 0.31835080554475659, 0.23842120584777782, 0.15987339529583075, 0.15943062569331454, 0.15909834017343297, 0.15882513229280101, 0.14602793790223562, 0.14351399240234333]\n"
     ]
    }
   ],
   "source": [
    "print MSE_train\n",
    "print MSE_test"
   ]
  },
  {
   "cell_type": "code",
   "execution_count": 20,
   "metadata": {
    "collapsed": false
   },
   "outputs": [
    {
     "data": {
      "text/plain": [
       "<matplotlib.text.Text at 0xbd394e0>"
      ]
     },
     "execution_count": 20,
     "metadata": {},
     "output_type": "execute_result"
    },
    {
     "data": {
      "image/png": "[encoded data removed]",
      "text/plain": [
       "<matplotlib.figure.Figure at 0xbc2e320>"
      ]
     },
     "metadata": {},
     "output_type": "display_data"
    }
   ],
   "source": [
    "plt.plot(range(1,12), MSE_train)\n",
    "plt.plot(range(1,12), MSE_test)\n",
    "plt.legend(['Train','Test'])\n",
    "plt.ylabel('MSE')\n",
    "plt.xlabel('number of dimension')\n",
    "plt.title('Plot of MSE versus Dimension')"
   ]
  },
  {
   "cell_type": "code",
   "execution_count": null,
   "metadata": {
    "collapsed": true
   },
   "outputs": [],
   "source": []
  }
 ],
 "metadata": {
  "anaconda-cloud": {},
  "kernelspec": {
   "display_name": "Python [default]",
   "language": "python",
   "name": "python2"
  },
  "language_info": {
   "codemirror_mode": {
    "name": "ipython",
    "version": 2
   },
   "file_extension": ".py",
   "mimetype": "text/x-python",
   "name": "python",
   "nbconvert_exporter": "python",
   "pygments_lexer": "ipython2",
   "version": "2.7.12"
  }
 },
 "nbformat": 4,
 "nbformat_minor": 1
}
